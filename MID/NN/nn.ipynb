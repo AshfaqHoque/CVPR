{
  "nbformat": 4,
  "nbformat_minor": 0,
  "metadata": {
    "colab": {
      "provenance": []
    },
    "kernelspec": {
      "name": "python3",
      "display_name": "Python 3"
    },
    "language_info": {
      "name": "python"
    }
  },
  "cells": [
    {
      "cell_type": "markdown",
      "source": [
        "# **Importing Libraries**"
      ],
      "metadata": {
        "id": "-kkXOV6lM4fi"
      }
    },
    {
      "cell_type": "code",
      "execution_count": 115,
      "metadata": {
        "id": "kpFON4JRaE1s"
      },
      "outputs": [],
      "source": [
        "import numpy as np\n",
        "import pandas as pd\n",
        "import matplotlib.pyplot as plt"
      ]
    },
    {
      "cell_type": "markdown",
      "source": [
        "# **Importing Dataset**\n",
        "\n"
      ],
      "metadata": {
        "id": "JbJsYjHJNI8a"
      }
    },
    {
      "cell_type": "code",
      "source": [
        "path = '/content/drive/MyDrive/Colab Notebooks/nn/IRIS.csv'\n",
        "dataset = pd.read_csv(path)\n",
        "dataset.head()"
      ],
      "metadata": {
        "colab": {
          "base_uri": "https://localhost:8080/",
          "height": 206
        },
        "id": "9szffGBMaZNd",
        "outputId": "9c0c0bb5-144e-4675-bee6-2e146b1f660e"
      },
      "execution_count": 116,
      "outputs": [
        {
          "output_type": "execute_result",
          "data": {
            "text/plain": [
              "   sepal_length  sepal_width  petal_length  petal_width      species\n",
              "0           5.1          3.5           1.4          0.2  Iris-setosa\n",
              "1           4.9          3.0           1.4          0.2  Iris-setosa\n",
              "2           4.7          3.2           1.3          0.2  Iris-setosa\n",
              "3           4.6          3.1           1.5          0.2  Iris-setosa\n",
              "4           5.0          3.6           1.4          0.2  Iris-setosa"
            ],
            "text/html": [
              "\n",
              "  <div id=\"df-f0b8b064-ad7d-4fc4-ae9c-6d63a736a852\" class=\"colab-df-container\">\n",
              "    <div>\n",
              "<style scoped>\n",
              "    .dataframe tbody tr th:only-of-type {\n",
              "        vertical-align: middle;\n",
              "    }\n",
              "\n",
              "    .dataframe tbody tr th {\n",
              "        vertical-align: top;\n",
              "    }\n",
              "\n",
              "    .dataframe thead th {\n",
              "        text-align: right;\n",
              "    }\n",
              "</style>\n",
              "<table border=\"1\" class=\"dataframe\">\n",
              "  <thead>\n",
              "    <tr style=\"text-align: right;\">\n",
              "      <th></th>\n",
              "      <th>sepal_length</th>\n",
              "      <th>sepal_width</th>\n",
              "      <th>petal_length</th>\n",
              "      <th>petal_width</th>\n",
              "      <th>species</th>\n",
              "    </tr>\n",
              "  </thead>\n",
              "  <tbody>\n",
              "    <tr>\n",
              "      <th>0</th>\n",
              "      <td>5.1</td>\n",
              "      <td>3.5</td>\n",
              "      <td>1.4</td>\n",
              "      <td>0.2</td>\n",
              "      <td>Iris-setosa</td>\n",
              "    </tr>\n",
              "    <tr>\n",
              "      <th>1</th>\n",
              "      <td>4.9</td>\n",
              "      <td>3.0</td>\n",
              "      <td>1.4</td>\n",
              "      <td>0.2</td>\n",
              "      <td>Iris-setosa</td>\n",
              "    </tr>\n",
              "    <tr>\n",
              "      <th>2</th>\n",
              "      <td>4.7</td>\n",
              "      <td>3.2</td>\n",
              "      <td>1.3</td>\n",
              "      <td>0.2</td>\n",
              "      <td>Iris-setosa</td>\n",
              "    </tr>\n",
              "    <tr>\n",
              "      <th>3</th>\n",
              "      <td>4.6</td>\n",
              "      <td>3.1</td>\n",
              "      <td>1.5</td>\n",
              "      <td>0.2</td>\n",
              "      <td>Iris-setosa</td>\n",
              "    </tr>\n",
              "    <tr>\n",
              "      <th>4</th>\n",
              "      <td>5.0</td>\n",
              "      <td>3.6</td>\n",
              "      <td>1.4</td>\n",
              "      <td>0.2</td>\n",
              "      <td>Iris-setosa</td>\n",
              "    </tr>\n",
              "  </tbody>\n",
              "</table>\n",
              "</div>\n",
              "    <div class=\"colab-df-buttons\">\n",
              "\n",
              "  <div class=\"colab-df-container\">\n",
              "    <button class=\"colab-df-convert\" onclick=\"convertToInteractive('df-f0b8b064-ad7d-4fc4-ae9c-6d63a736a852')\"\n",
              "            title=\"Convert this dataframe to an interactive table.\"\n",
              "            style=\"display:none;\">\n",
              "\n",
              "  <svg xmlns=\"http://www.w3.org/2000/svg\" height=\"24px\" viewBox=\"0 -960 960 960\">\n",
              "    <path d=\"M120-120v-720h720v720H120Zm60-500h600v-160H180v160Zm220 220h160v-160H400v160Zm0 220h160v-160H400v160ZM180-400h160v-160H180v160Zm440 0h160v-160H620v160ZM180-180h160v-160H180v160Zm440 0h160v-160H620v160Z\"/>\n",
              "  </svg>\n",
              "    </button>\n",
              "\n",
              "  <style>\n",
              "    .colab-df-container {\n",
              "      display:flex;\n",
              "      gap: 12px;\n",
              "    }\n",
              "\n",
              "    .colab-df-convert {\n",
              "      background-color: #E8F0FE;\n",
              "      border: none;\n",
              "      border-radius: 50%;\n",
              "      cursor: pointer;\n",
              "      display: none;\n",
              "      fill: #1967D2;\n",
              "      height: 32px;\n",
              "      padding: 0 0 0 0;\n",
              "      width: 32px;\n",
              "    }\n",
              "\n",
              "    .colab-df-convert:hover {\n",
              "      background-color: #E2EBFA;\n",
              "      box-shadow: 0px 1px 2px rgba(60, 64, 67, 0.3), 0px 1px 3px 1px rgba(60, 64, 67, 0.15);\n",
              "      fill: #174EA6;\n",
              "    }\n",
              "\n",
              "    .colab-df-buttons div {\n",
              "      margin-bottom: 4px;\n",
              "    }\n",
              "\n",
              "    [theme=dark] .colab-df-convert {\n",
              "      background-color: #3B4455;\n",
              "      fill: #D2E3FC;\n",
              "    }\n",
              "\n",
              "    [theme=dark] .colab-df-convert:hover {\n",
              "      background-color: #434B5C;\n",
              "      box-shadow: 0px 1px 3px 1px rgba(0, 0, 0, 0.15);\n",
              "      filter: drop-shadow(0px 1px 2px rgba(0, 0, 0, 0.3));\n",
              "      fill: #FFFFFF;\n",
              "    }\n",
              "  </style>\n",
              "\n",
              "    <script>\n",
              "      const buttonEl =\n",
              "        document.querySelector('#df-f0b8b064-ad7d-4fc4-ae9c-6d63a736a852 button.colab-df-convert');\n",
              "      buttonEl.style.display =\n",
              "        google.colab.kernel.accessAllowed ? 'block' : 'none';\n",
              "\n",
              "      async function convertToInteractive(key) {\n",
              "        const element = document.querySelector('#df-f0b8b064-ad7d-4fc4-ae9c-6d63a736a852');\n",
              "        const dataTable =\n",
              "          await google.colab.kernel.invokeFunction('convertToInteractive',\n",
              "                                                    [key], {});\n",
              "        if (!dataTable) return;\n",
              "\n",
              "        const docLinkHtml = 'Like what you see? Visit the ' +\n",
              "          '<a target=\"_blank\" href=https://colab.research.google.com/notebooks/data_table.ipynb>data table notebook</a>'\n",
              "          + ' to learn more about interactive tables.';\n",
              "        element.innerHTML = '';\n",
              "        dataTable['output_type'] = 'display_data';\n",
              "        await google.colab.output.renderOutput(dataTable, element);\n",
              "        const docLink = document.createElement('div');\n",
              "        docLink.innerHTML = docLinkHtml;\n",
              "        element.appendChild(docLink);\n",
              "      }\n",
              "    </script>\n",
              "  </div>\n",
              "\n",
              "\n",
              "<div id=\"df-cebfd608-7815-4de1-b40b-e7ef667f97a0\">\n",
              "  <button class=\"colab-df-quickchart\" onclick=\"quickchart('df-cebfd608-7815-4de1-b40b-e7ef667f97a0')\"\n",
              "            title=\"Suggest charts\"\n",
              "            style=\"display:none;\">\n",
              "\n",
              "<svg xmlns=\"http://www.w3.org/2000/svg\" height=\"24px\"viewBox=\"0 0 24 24\"\n",
              "     width=\"24px\">\n",
              "    <g>\n",
              "        <path d=\"M19 3H5c-1.1 0-2 .9-2 2v14c0 1.1.9 2 2 2h14c1.1 0 2-.9 2-2V5c0-1.1-.9-2-2-2zM9 17H7v-7h2v7zm4 0h-2V7h2v10zm4 0h-2v-4h2v4z\"/>\n",
              "    </g>\n",
              "</svg>\n",
              "  </button>\n",
              "\n",
              "<style>\n",
              "  .colab-df-quickchart {\n",
              "      --bg-color: #E8F0FE;\n",
              "      --fill-color: #1967D2;\n",
              "      --hover-bg-color: #E2EBFA;\n",
              "      --hover-fill-color: #174EA6;\n",
              "      --disabled-fill-color: #AAA;\n",
              "      --disabled-bg-color: #DDD;\n",
              "  }\n",
              "\n",
              "  [theme=dark] .colab-df-quickchart {\n",
              "      --bg-color: #3B4455;\n",
              "      --fill-color: #D2E3FC;\n",
              "      --hover-bg-color: #434B5C;\n",
              "      --hover-fill-color: #FFFFFF;\n",
              "      --disabled-bg-color: #3B4455;\n",
              "      --disabled-fill-color: #666;\n",
              "  }\n",
              "\n",
              "  .colab-df-quickchart {\n",
              "    background-color: var(--bg-color);\n",
              "    border: none;\n",
              "    border-radius: 50%;\n",
              "    cursor: pointer;\n",
              "    display: none;\n",
              "    fill: var(--fill-color);\n",
              "    height: 32px;\n",
              "    padding: 0;\n",
              "    width: 32px;\n",
              "  }\n",
              "\n",
              "  .colab-df-quickchart:hover {\n",
              "    background-color: var(--hover-bg-color);\n",
              "    box-shadow: 0 1px 2px rgba(60, 64, 67, 0.3), 0 1px 3px 1px rgba(60, 64, 67, 0.15);\n",
              "    fill: var(--button-hover-fill-color);\n",
              "  }\n",
              "\n",
              "  .colab-df-quickchart-complete:disabled,\n",
              "  .colab-df-quickchart-complete:disabled:hover {\n",
              "    background-color: var(--disabled-bg-color);\n",
              "    fill: var(--disabled-fill-color);\n",
              "    box-shadow: none;\n",
              "  }\n",
              "\n",
              "  .colab-df-spinner {\n",
              "    border: 2px solid var(--fill-color);\n",
              "    border-color: transparent;\n",
              "    border-bottom-color: var(--fill-color);\n",
              "    animation:\n",
              "      spin 1s steps(1) infinite;\n",
              "  }\n",
              "\n",
              "  @keyframes spin {\n",
              "    0% {\n",
              "      border-color: transparent;\n",
              "      border-bottom-color: var(--fill-color);\n",
              "      border-left-color: var(--fill-color);\n",
              "    }\n",
              "    20% {\n",
              "      border-color: transparent;\n",
              "      border-left-color: var(--fill-color);\n",
              "      border-top-color: var(--fill-color);\n",
              "    }\n",
              "    30% {\n",
              "      border-color: transparent;\n",
              "      border-left-color: var(--fill-color);\n",
              "      border-top-color: var(--fill-color);\n",
              "      border-right-color: var(--fill-color);\n",
              "    }\n",
              "    40% {\n",
              "      border-color: transparent;\n",
              "      border-right-color: var(--fill-color);\n",
              "      border-top-color: var(--fill-color);\n",
              "    }\n",
              "    60% {\n",
              "      border-color: transparent;\n",
              "      border-right-color: var(--fill-color);\n",
              "    }\n",
              "    80% {\n",
              "      border-color: transparent;\n",
              "      border-right-color: var(--fill-color);\n",
              "      border-bottom-color: var(--fill-color);\n",
              "    }\n",
              "    90% {\n",
              "      border-color: transparent;\n",
              "      border-bottom-color: var(--fill-color);\n",
              "    }\n",
              "  }\n",
              "</style>\n",
              "\n",
              "  <script>\n",
              "    async function quickchart(key) {\n",
              "      const quickchartButtonEl =\n",
              "        document.querySelector('#' + key + ' button');\n",
              "      quickchartButtonEl.disabled = true;  // To prevent multiple clicks.\n",
              "      quickchartButtonEl.classList.add('colab-df-spinner');\n",
              "      try {\n",
              "        const charts = await google.colab.kernel.invokeFunction(\n",
              "            'suggestCharts', [key], {});\n",
              "      } catch (error) {\n",
              "        console.error('Error during call to suggestCharts:', error);\n",
              "      }\n",
              "      quickchartButtonEl.classList.remove('colab-df-spinner');\n",
              "      quickchartButtonEl.classList.add('colab-df-quickchart-complete');\n",
              "    }\n",
              "    (() => {\n",
              "      let quickchartButtonEl =\n",
              "        document.querySelector('#df-cebfd608-7815-4de1-b40b-e7ef667f97a0 button');\n",
              "      quickchartButtonEl.style.display =\n",
              "        google.colab.kernel.accessAllowed ? 'block' : 'none';\n",
              "    })();\n",
              "  </script>\n",
              "</div>\n",
              "\n",
              "    </div>\n",
              "  </div>\n"
            ],
            "application/vnd.google.colaboratory.intrinsic+json": {
              "type": "dataframe",
              "variable_name": "dataset",
              "summary": "{\n  \"name\": \"dataset\",\n  \"rows\": 150,\n  \"fields\": [\n    {\n      \"column\": \"sepal_length\",\n      \"properties\": {\n        \"dtype\": \"number\",\n        \"std\": 0.8280661279778629,\n        \"min\": 4.3,\n        \"max\": 7.9,\n        \"num_unique_values\": 35,\n        \"samples\": [\n          6.2,\n          4.5,\n          5.6\n        ],\n        \"semantic_type\": \"\",\n        \"description\": \"\"\n      }\n    },\n    {\n      \"column\": \"sepal_width\",\n      \"properties\": {\n        \"dtype\": \"number\",\n        \"std\": 0.4335943113621737,\n        \"min\": 2.0,\n        \"max\": 4.4,\n        \"num_unique_values\": 23,\n        \"samples\": [\n          2.3,\n          4.0,\n          3.5\n        ],\n        \"semantic_type\": \"\",\n        \"description\": \"\"\n      }\n    },\n    {\n      \"column\": \"petal_length\",\n      \"properties\": {\n        \"dtype\": \"number\",\n        \"std\": 1.7644204199522617,\n        \"min\": 1.0,\n        \"max\": 6.9,\n        \"num_unique_values\": 43,\n        \"samples\": [\n          6.7,\n          3.8,\n          3.7\n        ],\n        \"semantic_type\": \"\",\n        \"description\": \"\"\n      }\n    },\n    {\n      \"column\": \"petal_width\",\n      \"properties\": {\n        \"dtype\": \"number\",\n        \"std\": 0.7631607417008414,\n        \"min\": 0.1,\n        \"max\": 2.5,\n        \"num_unique_values\": 22,\n        \"samples\": [\n          0.2,\n          1.2,\n          1.3\n        ],\n        \"semantic_type\": \"\",\n        \"description\": \"\"\n      }\n    },\n    {\n      \"column\": \"species\",\n      \"properties\": {\n        \"dtype\": \"category\",\n        \"num_unique_values\": 3,\n        \"samples\": [\n          \"Iris-setosa\",\n          \"Iris-versicolor\",\n          \"Iris-virginica\"\n        ],\n        \"semantic_type\": \"\",\n        \"description\": \"\"\n      }\n    }\n  ]\n}"
            }
          },
          "metadata": {},
          "execution_count": 116
        }
      ]
    },
    {
      "cell_type": "markdown",
      "source": [
        "# **Considering Two Features for Better Visualization**"
      ],
      "metadata": {
        "id": "QPR8GcQvSpqZ"
      }
    },
    {
      "cell_type": "code",
      "source": [
        "dataset = dataset.drop(columns=['sepal_width', 'petal_width'])\n",
        "dataset.head()"
      ],
      "metadata": {
        "colab": {
          "base_uri": "https://localhost:8080/",
          "height": 206
        },
        "id": "ncLb-9rsugob",
        "outputId": "b6d916b0-e9c4-4747-f383-ccd106d47073"
      },
      "execution_count": 117,
      "outputs": [
        {
          "output_type": "execute_result",
          "data": {
            "text/plain": [
              "   sepal_length  petal_length      species\n",
              "0           5.1           1.4  Iris-setosa\n",
              "1           4.9           1.4  Iris-setosa\n",
              "2           4.7           1.3  Iris-setosa\n",
              "3           4.6           1.5  Iris-setosa\n",
              "4           5.0           1.4  Iris-setosa"
            ],
            "text/html": [
              "\n",
              "  <div id=\"df-8236aa97-ebc4-4187-8a90-da0235f7323a\" class=\"colab-df-container\">\n",
              "    <div>\n",
              "<style scoped>\n",
              "    .dataframe tbody tr th:only-of-type {\n",
              "        vertical-align: middle;\n",
              "    }\n",
              "\n",
              "    .dataframe tbody tr th {\n",
              "        vertical-align: top;\n",
              "    }\n",
              "\n",
              "    .dataframe thead th {\n",
              "        text-align: right;\n",
              "    }\n",
              "</style>\n",
              "<table border=\"1\" class=\"dataframe\">\n",
              "  <thead>\n",
              "    <tr style=\"text-align: right;\">\n",
              "      <th></th>\n",
              "      <th>sepal_length</th>\n",
              "      <th>petal_length</th>\n",
              "      <th>species</th>\n",
              "    </tr>\n",
              "  </thead>\n",
              "  <tbody>\n",
              "    <tr>\n",
              "      <th>0</th>\n",
              "      <td>5.1</td>\n",
              "      <td>1.4</td>\n",
              "      <td>Iris-setosa</td>\n",
              "    </tr>\n",
              "    <tr>\n",
              "      <th>1</th>\n",
              "      <td>4.9</td>\n",
              "      <td>1.4</td>\n",
              "      <td>Iris-setosa</td>\n",
              "    </tr>\n",
              "    <tr>\n",
              "      <th>2</th>\n",
              "      <td>4.7</td>\n",
              "      <td>1.3</td>\n",
              "      <td>Iris-setosa</td>\n",
              "    </tr>\n",
              "    <tr>\n",
              "      <th>3</th>\n",
              "      <td>4.6</td>\n",
              "      <td>1.5</td>\n",
              "      <td>Iris-setosa</td>\n",
              "    </tr>\n",
              "    <tr>\n",
              "      <th>4</th>\n",
              "      <td>5.0</td>\n",
              "      <td>1.4</td>\n",
              "      <td>Iris-setosa</td>\n",
              "    </tr>\n",
              "  </tbody>\n",
              "</table>\n",
              "</div>\n",
              "    <div class=\"colab-df-buttons\">\n",
              "\n",
              "  <div class=\"colab-df-container\">\n",
              "    <button class=\"colab-df-convert\" onclick=\"convertToInteractive('df-8236aa97-ebc4-4187-8a90-da0235f7323a')\"\n",
              "            title=\"Convert this dataframe to an interactive table.\"\n",
              "            style=\"display:none;\">\n",
              "\n",
              "  <svg xmlns=\"http://www.w3.org/2000/svg\" height=\"24px\" viewBox=\"0 -960 960 960\">\n",
              "    <path d=\"M120-120v-720h720v720H120Zm60-500h600v-160H180v160Zm220 220h160v-160H400v160Zm0 220h160v-160H400v160ZM180-400h160v-160H180v160Zm440 0h160v-160H620v160ZM180-180h160v-160H180v160Zm440 0h160v-160H620v160Z\"/>\n",
              "  </svg>\n",
              "    </button>\n",
              "\n",
              "  <style>\n",
              "    .colab-df-container {\n",
              "      display:flex;\n",
              "      gap: 12px;\n",
              "    }\n",
              "\n",
              "    .colab-df-convert {\n",
              "      background-color: #E8F0FE;\n",
              "      border: none;\n",
              "      border-radius: 50%;\n",
              "      cursor: pointer;\n",
              "      display: none;\n",
              "      fill: #1967D2;\n",
              "      height: 32px;\n",
              "      padding: 0 0 0 0;\n",
              "      width: 32px;\n",
              "    }\n",
              "\n",
              "    .colab-df-convert:hover {\n",
              "      background-color: #E2EBFA;\n",
              "      box-shadow: 0px 1px 2px rgba(60, 64, 67, 0.3), 0px 1px 3px 1px rgba(60, 64, 67, 0.15);\n",
              "      fill: #174EA6;\n",
              "    }\n",
              "\n",
              "    .colab-df-buttons div {\n",
              "      margin-bottom: 4px;\n",
              "    }\n",
              "\n",
              "    [theme=dark] .colab-df-convert {\n",
              "      background-color: #3B4455;\n",
              "      fill: #D2E3FC;\n",
              "    }\n",
              "\n",
              "    [theme=dark] .colab-df-convert:hover {\n",
              "      background-color: #434B5C;\n",
              "      box-shadow: 0px 1px 3px 1px rgba(0, 0, 0, 0.15);\n",
              "      filter: drop-shadow(0px 1px 2px rgba(0, 0, 0, 0.3));\n",
              "      fill: #FFFFFF;\n",
              "    }\n",
              "  </style>\n",
              "\n",
              "    <script>\n",
              "      const buttonEl =\n",
              "        document.querySelector('#df-8236aa97-ebc4-4187-8a90-da0235f7323a button.colab-df-convert');\n",
              "      buttonEl.style.display =\n",
              "        google.colab.kernel.accessAllowed ? 'block' : 'none';\n",
              "\n",
              "      async function convertToInteractive(key) {\n",
              "        const element = document.querySelector('#df-8236aa97-ebc4-4187-8a90-da0235f7323a');\n",
              "        const dataTable =\n",
              "          await google.colab.kernel.invokeFunction('convertToInteractive',\n",
              "                                                    [key], {});\n",
              "        if (!dataTable) return;\n",
              "\n",
              "        const docLinkHtml = 'Like what you see? Visit the ' +\n",
              "          '<a target=\"_blank\" href=https://colab.research.google.com/notebooks/data_table.ipynb>data table notebook</a>'\n",
              "          + ' to learn more about interactive tables.';\n",
              "        element.innerHTML = '';\n",
              "        dataTable['output_type'] = 'display_data';\n",
              "        await google.colab.output.renderOutput(dataTable, element);\n",
              "        const docLink = document.createElement('div');\n",
              "        docLink.innerHTML = docLinkHtml;\n",
              "        element.appendChild(docLink);\n",
              "      }\n",
              "    </script>\n",
              "  </div>\n",
              "\n",
              "\n",
              "<div id=\"df-59643337-2676-4c83-998b-37b95af14b93\">\n",
              "  <button class=\"colab-df-quickchart\" onclick=\"quickchart('df-59643337-2676-4c83-998b-37b95af14b93')\"\n",
              "            title=\"Suggest charts\"\n",
              "            style=\"display:none;\">\n",
              "\n",
              "<svg xmlns=\"http://www.w3.org/2000/svg\" height=\"24px\"viewBox=\"0 0 24 24\"\n",
              "     width=\"24px\">\n",
              "    <g>\n",
              "        <path d=\"M19 3H5c-1.1 0-2 .9-2 2v14c0 1.1.9 2 2 2h14c1.1 0 2-.9 2-2V5c0-1.1-.9-2-2-2zM9 17H7v-7h2v7zm4 0h-2V7h2v10zm4 0h-2v-4h2v4z\"/>\n",
              "    </g>\n",
              "</svg>\n",
              "  </button>\n",
              "\n",
              "<style>\n",
              "  .colab-df-quickchart {\n",
              "      --bg-color: #E8F0FE;\n",
              "      --fill-color: #1967D2;\n",
              "      --hover-bg-color: #E2EBFA;\n",
              "      --hover-fill-color: #174EA6;\n",
              "      --disabled-fill-color: #AAA;\n",
              "      --disabled-bg-color: #DDD;\n",
              "  }\n",
              "\n",
              "  [theme=dark] .colab-df-quickchart {\n",
              "      --bg-color: #3B4455;\n",
              "      --fill-color: #D2E3FC;\n",
              "      --hover-bg-color: #434B5C;\n",
              "      --hover-fill-color: #FFFFFF;\n",
              "      --disabled-bg-color: #3B4455;\n",
              "      --disabled-fill-color: #666;\n",
              "  }\n",
              "\n",
              "  .colab-df-quickchart {\n",
              "    background-color: var(--bg-color);\n",
              "    border: none;\n",
              "    border-radius: 50%;\n",
              "    cursor: pointer;\n",
              "    display: none;\n",
              "    fill: var(--fill-color);\n",
              "    height: 32px;\n",
              "    padding: 0;\n",
              "    width: 32px;\n",
              "  }\n",
              "\n",
              "  .colab-df-quickchart:hover {\n",
              "    background-color: var(--hover-bg-color);\n",
              "    box-shadow: 0 1px 2px rgba(60, 64, 67, 0.3), 0 1px 3px 1px rgba(60, 64, 67, 0.15);\n",
              "    fill: var(--button-hover-fill-color);\n",
              "  }\n",
              "\n",
              "  .colab-df-quickchart-complete:disabled,\n",
              "  .colab-df-quickchart-complete:disabled:hover {\n",
              "    background-color: var(--disabled-bg-color);\n",
              "    fill: var(--disabled-fill-color);\n",
              "    box-shadow: none;\n",
              "  }\n",
              "\n",
              "  .colab-df-spinner {\n",
              "    border: 2px solid var(--fill-color);\n",
              "    border-color: transparent;\n",
              "    border-bottom-color: var(--fill-color);\n",
              "    animation:\n",
              "      spin 1s steps(1) infinite;\n",
              "  }\n",
              "\n",
              "  @keyframes spin {\n",
              "    0% {\n",
              "      border-color: transparent;\n",
              "      border-bottom-color: var(--fill-color);\n",
              "      border-left-color: var(--fill-color);\n",
              "    }\n",
              "    20% {\n",
              "      border-color: transparent;\n",
              "      border-left-color: var(--fill-color);\n",
              "      border-top-color: var(--fill-color);\n",
              "    }\n",
              "    30% {\n",
              "      border-color: transparent;\n",
              "      border-left-color: var(--fill-color);\n",
              "      border-top-color: var(--fill-color);\n",
              "      border-right-color: var(--fill-color);\n",
              "    }\n",
              "    40% {\n",
              "      border-color: transparent;\n",
              "      border-right-color: var(--fill-color);\n",
              "      border-top-color: var(--fill-color);\n",
              "    }\n",
              "    60% {\n",
              "      border-color: transparent;\n",
              "      border-right-color: var(--fill-color);\n",
              "    }\n",
              "    80% {\n",
              "      border-color: transparent;\n",
              "      border-right-color: var(--fill-color);\n",
              "      border-bottom-color: var(--fill-color);\n",
              "    }\n",
              "    90% {\n",
              "      border-color: transparent;\n",
              "      border-bottom-color: var(--fill-color);\n",
              "    }\n",
              "  }\n",
              "</style>\n",
              "\n",
              "  <script>\n",
              "    async function quickchart(key) {\n",
              "      const quickchartButtonEl =\n",
              "        document.querySelector('#' + key + ' button');\n",
              "      quickchartButtonEl.disabled = true;  // To prevent multiple clicks.\n",
              "      quickchartButtonEl.classList.add('colab-df-spinner');\n",
              "      try {\n",
              "        const charts = await google.colab.kernel.invokeFunction(\n",
              "            'suggestCharts', [key], {});\n",
              "      } catch (error) {\n",
              "        console.error('Error during call to suggestCharts:', error);\n",
              "      }\n",
              "      quickchartButtonEl.classList.remove('colab-df-spinner');\n",
              "      quickchartButtonEl.classList.add('colab-df-quickchart-complete');\n",
              "    }\n",
              "    (() => {\n",
              "      let quickchartButtonEl =\n",
              "        document.querySelector('#df-59643337-2676-4c83-998b-37b95af14b93 button');\n",
              "      quickchartButtonEl.style.display =\n",
              "        google.colab.kernel.accessAllowed ? 'block' : 'none';\n",
              "    })();\n",
              "  </script>\n",
              "</div>\n",
              "\n",
              "    </div>\n",
              "  </div>\n"
            ],
            "application/vnd.google.colaboratory.intrinsic+json": {
              "type": "dataframe",
              "variable_name": "dataset",
              "summary": "{\n  \"name\": \"dataset\",\n  \"rows\": 150,\n  \"fields\": [\n    {\n      \"column\": \"sepal_length\",\n      \"properties\": {\n        \"dtype\": \"number\",\n        \"std\": 0.8280661279778629,\n        \"min\": 4.3,\n        \"max\": 7.9,\n        \"num_unique_values\": 35,\n        \"samples\": [\n          6.2,\n          4.5,\n          5.6\n        ],\n        \"semantic_type\": \"\",\n        \"description\": \"\"\n      }\n    },\n    {\n      \"column\": \"petal_length\",\n      \"properties\": {\n        \"dtype\": \"number\",\n        \"std\": 1.7644204199522617,\n        \"min\": 1.0,\n        \"max\": 6.9,\n        \"num_unique_values\": 43,\n        \"samples\": [\n          6.7,\n          3.8,\n          3.7\n        ],\n        \"semantic_type\": \"\",\n        \"description\": \"\"\n      }\n    },\n    {\n      \"column\": \"species\",\n      \"properties\": {\n        \"dtype\": \"category\",\n        \"num_unique_values\": 3,\n        \"samples\": [\n          \"Iris-setosa\",\n          \"Iris-versicolor\",\n          \"Iris-virginica\"\n        ],\n        \"semantic_type\": \"\",\n        \"description\": \"\"\n      }\n    }\n  ]\n}"
            }
          },
          "metadata": {},
          "execution_count": 117
        }
      ]
    },
    {
      "cell_type": "code",
      "source": [
        "dataset.shape"
      ],
      "metadata": {
        "colab": {
          "base_uri": "https://localhost:8080/"
        },
        "id": "SbR-YQba-TYT",
        "outputId": "9cebf356-fcf1-4e3d-a09f-11c0712ca510"
      },
      "execution_count": 118,
      "outputs": [
        {
          "output_type": "execute_result",
          "data": {
            "text/plain": [
              "(150, 3)"
            ]
          },
          "metadata": {},
          "execution_count": 118
        }
      ]
    },
    {
      "cell_type": "markdown",
      "source": [
        "# **Handling Missing and Duplicate Values in data**"
      ],
      "metadata": {
        "id": "anIpvnvDS-HI"
      }
    },
    {
      "cell_type": "code",
      "source": [
        "dataset.isnull().sum()"
      ],
      "metadata": {
        "colab": {
          "base_uri": "https://localhost:8080/",
          "height": 178
        },
        "id": "s9pK4Ka5au51",
        "outputId": "a50d0db8-dd58-40e3-fd23-d112d812340d"
      },
      "execution_count": 119,
      "outputs": [
        {
          "output_type": "execute_result",
          "data": {
            "text/plain": [
              "sepal_length    0\n",
              "petal_length    0\n",
              "species         0\n",
              "dtype: int64"
            ],
            "text/html": [
              "<div>\n",
              "<style scoped>\n",
              "    .dataframe tbody tr th:only-of-type {\n",
              "        vertical-align: middle;\n",
              "    }\n",
              "\n",
              "    .dataframe tbody tr th {\n",
              "        vertical-align: top;\n",
              "    }\n",
              "\n",
              "    .dataframe thead th {\n",
              "        text-align: right;\n",
              "    }\n",
              "</style>\n",
              "<table border=\"1\" class=\"dataframe\">\n",
              "  <thead>\n",
              "    <tr style=\"text-align: right;\">\n",
              "      <th></th>\n",
              "      <th>0</th>\n",
              "    </tr>\n",
              "  </thead>\n",
              "  <tbody>\n",
              "    <tr>\n",
              "      <th>sepal_length</th>\n",
              "      <td>0</td>\n",
              "    </tr>\n",
              "    <tr>\n",
              "      <th>petal_length</th>\n",
              "      <td>0</td>\n",
              "    </tr>\n",
              "    <tr>\n",
              "      <th>species</th>\n",
              "      <td>0</td>\n",
              "    </tr>\n",
              "  </tbody>\n",
              "</table>\n",
              "</div><br><label><b>dtype:</b> int64</label>"
            ]
          },
          "metadata": {},
          "execution_count": 119
        }
      ]
    },
    {
      "cell_type": "code",
      "source": [
        "dataset.duplicated().sum()"
      ],
      "metadata": {
        "colab": {
          "base_uri": "https://localhost:8080/"
        },
        "id": "w3go2McVcLxn",
        "outputId": "4f60aef5-f656-4bb2-cc9c-1f61a2528ae6"
      },
      "execution_count": 120,
      "outputs": [
        {
          "output_type": "execute_result",
          "data": {
            "text/plain": [
              "26"
            ]
          },
          "metadata": {},
          "execution_count": 120
        }
      ]
    },
    {
      "cell_type": "code",
      "source": [
        "duplicates = dataset[dataset.duplicated()]\n",
        "print(duplicates)"
      ],
      "metadata": {
        "colab": {
          "base_uri": "https://localhost:8080/"
        },
        "id": "YD9m80TEcp_L",
        "outputId": "c74f5ebb-f37c-4683-f9a2-6533dd992f25"
      },
      "execution_count": 121,
      "outputs": [
        {
          "output_type": "stream",
          "name": "stdout",
          "text": [
            "     sepal_length  petal_length          species\n",
            "17            5.1           1.4      Iris-setosa\n",
            "20            5.4           1.7      Iris-setosa\n",
            "21            5.1           1.5      Iris-setosa\n",
            "26            5.0           1.6      Iris-setosa\n",
            "30            4.8           1.6      Iris-setosa\n",
            "31            5.4           1.5      Iris-setosa\n",
            "32            5.2           1.5      Iris-setosa\n",
            "34            4.9           1.5      Iris-setosa\n",
            "37            4.9           1.5      Iris-setosa\n",
            "39            5.1           1.5      Iris-setosa\n",
            "42            4.4           1.3      Iris-setosa\n",
            "43            5.0           1.6      Iris-setosa\n",
            "45            4.8           1.4      Iris-setosa\n",
            "47            4.6           1.4      Iris-setosa\n",
            "49            5.0           1.4      Iris-setosa\n",
            "73            6.1           4.7  Iris-versicolor\n",
            "85            6.0           4.5  Iris-versicolor\n",
            "89            5.5           4.0  Iris-versicolor\n",
            "96            5.7           4.2  Iris-versicolor\n",
            "114           5.8           5.1   Iris-virginica\n",
            "115           6.4           5.3   Iris-virginica\n",
            "122           7.7           6.7   Iris-virginica\n",
            "132           6.4           5.6   Iris-virginica\n",
            "136           6.3           5.6   Iris-virginica\n",
            "142           5.8           5.1   Iris-virginica\n",
            "144           6.7           5.7   Iris-virginica\n"
          ]
        }
      ]
    },
    {
      "cell_type": "code",
      "source": [
        "duplicates = dataset[dataset.duplicated(keep=False)]\n",
        "print(duplicates)"
      ],
      "metadata": {
        "colab": {
          "base_uri": "https://localhost:8080/"
        },
        "id": "gR-84pTidIzs",
        "outputId": "88f02d1b-1260-46bf-bbd7-9c77f13c4348"
      },
      "execution_count": 122,
      "outputs": [
        {
          "output_type": "stream",
          "name": "stdout",
          "text": [
            "     sepal_length  petal_length          species\n",
            "0             5.1           1.4      Iris-setosa\n",
            "4             5.0           1.4      Iris-setosa\n",
            "5             5.4           1.7      Iris-setosa\n",
            "6             4.6           1.4      Iris-setosa\n",
            "9             4.9           1.5      Iris-setosa\n",
            "10            5.4           1.5      Iris-setosa\n",
            "11            4.8           1.6      Iris-setosa\n",
            "12            4.8           1.4      Iris-setosa\n",
            "17            5.1           1.4      Iris-setosa\n",
            "19            5.1           1.5      Iris-setosa\n",
            "20            5.4           1.7      Iris-setosa\n",
            "21            5.1           1.5      Iris-setosa\n",
            "25            5.0           1.6      Iris-setosa\n",
            "26            5.0           1.6      Iris-setosa\n",
            "27            5.2           1.5      Iris-setosa\n",
            "30            4.8           1.6      Iris-setosa\n",
            "31            5.4           1.5      Iris-setosa\n",
            "32            5.2           1.5      Iris-setosa\n",
            "34            4.9           1.5      Iris-setosa\n",
            "37            4.9           1.5      Iris-setosa\n",
            "38            4.4           1.3      Iris-setosa\n",
            "39            5.1           1.5      Iris-setosa\n",
            "42            4.4           1.3      Iris-setosa\n",
            "43            5.0           1.6      Iris-setosa\n",
            "45            4.8           1.4      Iris-setosa\n",
            "47            4.6           1.4      Iris-setosa\n",
            "49            5.0           1.4      Iris-setosa\n",
            "53            5.5           4.0  Iris-versicolor\n",
            "63            6.1           4.7  Iris-versicolor\n",
            "73            6.1           4.7  Iris-versicolor\n",
            "78            6.0           4.5  Iris-versicolor\n",
            "85            6.0           4.5  Iris-versicolor\n",
            "89            5.5           4.0  Iris-versicolor\n",
            "95            5.7           4.2  Iris-versicolor\n",
            "96            5.7           4.2  Iris-versicolor\n",
            "101           5.8           5.1   Iris-virginica\n",
            "103           6.3           5.6   Iris-virginica\n",
            "111           6.4           5.3   Iris-virginica\n",
            "114           5.8           5.1   Iris-virginica\n",
            "115           6.4           5.3   Iris-virginica\n",
            "117           7.7           6.7   Iris-virginica\n",
            "122           7.7           6.7   Iris-virginica\n",
            "124           6.7           5.7   Iris-virginica\n",
            "128           6.4           5.6   Iris-virginica\n",
            "132           6.4           5.6   Iris-virginica\n",
            "136           6.3           5.6   Iris-virginica\n",
            "142           5.8           5.1   Iris-virginica\n",
            "144           6.7           5.7   Iris-virginica\n"
          ]
        }
      ]
    },
    {
      "cell_type": "code",
      "source": [
        "dataset.drop_duplicates(keep='first', inplace=True)"
      ],
      "metadata": {
        "id": "l39FDZztdwal"
      },
      "execution_count": 123,
      "outputs": []
    },
    {
      "cell_type": "code",
      "source": [
        "dataset.duplicated().sum()"
      ],
      "metadata": {
        "colab": {
          "base_uri": "https://localhost:8080/"
        },
        "id": "GMb1Eg0jeSE0",
        "outputId": "2c9f8120-dcb8-444c-8acc-25cc397bc7dd"
      },
      "execution_count": 124,
      "outputs": [
        {
          "output_type": "execute_result",
          "data": {
            "text/plain": [
              "0"
            ]
          },
          "metadata": {},
          "execution_count": 124
        }
      ]
    },
    {
      "cell_type": "markdown",
      "source": [
        "# **Extracting Features and Label**"
      ],
      "metadata": {
        "id": "WNrOCq5_TKGB"
      }
    },
    {
      "cell_type": "code",
      "source": [
        "X = dataset.iloc[:, :-1].values\n",
        "y = dataset.iloc[:, -1].values"
      ],
      "metadata": {
        "id": "QybbU8LLeVjt"
      },
      "execution_count": 125,
      "outputs": []
    },
    {
      "cell_type": "markdown",
      "source": [
        "# **Encoding**"
      ],
      "metadata": {
        "id": "27SsxZvWTVfi"
      }
    },
    {
      "cell_type": "markdown",
      "source": [
        "## 1. Label Encoding"
      ],
      "metadata": {
        "id": "ZpNT7ddfTo6Y"
      }
    },
    {
      "cell_type": "code",
      "source": [
        "labels, y_encoded = np.unique(y, return_inverse=True)\n",
        "labels, y_encoded.shape, y_encoded[:3]"
      ],
      "metadata": {
        "colab": {
          "base_uri": "https://localhost:8080/"
        },
        "id": "DWEkavw28p7N",
        "outputId": "a056a03d-4152-4f40-b727-252841154ee0"
      },
      "execution_count": 126,
      "outputs": [
        {
          "output_type": "execute_result",
          "data": {
            "text/plain": [
              "(array(['Iris-setosa', 'Iris-versicolor', 'Iris-virginica'], dtype=object),\n",
              " (124,),\n",
              " array([0, 0, 0]))"
            ]
          },
          "metadata": {},
          "execution_count": 126
        }
      ]
    },
    {
      "cell_type": "markdown",
      "source": [
        "## 2. One Hot Encoding"
      ],
      "metadata": {
        "id": "vGqkVWiFTusQ"
      }
    },
    {
      "cell_type": "code",
      "source": [
        "y_one_hot = np.eye(len(labels))[y_encoded]\n",
        "y_one_hot.shape, y_one_hot[:3]"
      ],
      "metadata": {
        "colab": {
          "base_uri": "https://localhost:8080/"
        },
        "id": "wYjGr-UM94MC",
        "outputId": "25f123d8-046a-4876-d839-6d662ec66a68"
      },
      "execution_count": 127,
      "outputs": [
        {
          "output_type": "execute_result",
          "data": {
            "text/plain": [
              "((124, 3),\n",
              " array([[1., 0., 0.],\n",
              "        [1., 0., 0.],\n",
              "        [1., 0., 0.]]))"
            ]
          },
          "metadata": {},
          "execution_count": 127
        }
      ]
    },
    {
      "cell_type": "markdown",
      "source": [
        "# **Scatter Plotting of Features**"
      ],
      "metadata": {
        "id": "0sgjSC3dT9zI"
      }
    },
    {
      "cell_type": "code",
      "source": [
        "markers = ['o', '+', 'x']\n",
        "plt.figure(figsize=(12, 12))\n",
        "\n",
        "for label, marker in zip(np.unique(y_encoded), markers):\n",
        "  plt.scatter(X[y_encoded == label, 0], X[y_encoded == label, 1], label=labels[label], marker=marker, s=100)\n",
        "plt.xlabel(\"sepal_length\")\n",
        "plt.ylabel(\"petal_length\")\n",
        "plt.legend()\n",
        "plt.show()"
      ],
      "metadata": {
        "colab": {
          "base_uri": "https://localhost:8080/",
          "height": 1000
        },
        "id": "boc1CUty-1rn",
        "outputId": "028fa6be-25ca-4352-a225-b6bee11b300f"
      },
      "execution_count": 128,
      "outputs": [
        {
          "output_type": "display_data",
          "data": {
            "text/plain": [
              "<Figure size 1200x1200 with 1 Axes>"
            ],
            "image/png": "[encoded data removed]"
          },
          "metadata": {}
        }
      ]
    },
    {
      "cell_type": "markdown",
      "source": [
        "# **Splitting the Data**"
      ],
      "metadata": {
        "id": "2FBJyXdCUK5Q"
      }
    },
    {
      "cell_type": "code",
      "source": [
        "# Shuffles the data by generating random indices\n",
        "indices = np.random.permutation(len(X))\n",
        "\n",
        "# Defines the split ratio (80% train, 20% test)\n",
        "split_ratio = 0.8\n",
        "train_size = int(len(X) * split_ratio)\n",
        "\n",
        "# Splits the indices into training and test sets\n",
        "train_indices = indices[:train_size]\n",
        "test_indices = indices[train_size:]\n",
        "\n",
        "X_train = X[train_indices]\n",
        "X_test = X[test_indices]\n",
        "y_train = y_one_hot[train_indices]\n",
        "y_test = y_one_hot[test_indices]\n",
        "\n",
        "print(f'X_train shape: {X_train.shape}')\n",
        "print(f'X_test shape: {X_test.shape}')\n",
        "print(f'y_train shape: {y_train.shape}')\n",
        "print(f'y_test shape: {y_test.shape}')"
      ],
      "metadata": {
        "colab": {
          "base_uri": "https://localhost:8080/"
        },
        "id": "0Gc22SFN_1EA",
        "outputId": "dbba1781-55fa-4f54-c50d-a7dc865be2c7"
      },
      "execution_count": 129,
      "outputs": [
        {
          "output_type": "stream",
          "name": "stdout",
          "text": [
            "X_train shape: (99, 2)\n",
            "X_test shape: (25, 2)\n",
            "y_train shape: (99, 3)\n",
            "y_test shape: (25, 3)\n"
          ]
        }
      ]
    },
    {
      "cell_type": "markdown",
      "source": [
        "# **Neural Network Class**"
      ],
      "metadata": {
        "id": "Fwzc99k9U35x"
      }
    },
    {
      "cell_type": "code",
      "source": [
        "class NeuralNetwork:\n",
        "    def __init__(self):\n",
        "        # Defines the number of neurons in each layer\n",
        "        inputLayerNeurons = 2\n",
        "        hiddenLayer1Neurons = 4\n",
        "        hiddenLayer2Neurons = 4\n",
        "        hiddenLayer3Neurons = 4\n",
        "        outputLayerNeurons = 3\n",
        "\n",
        "        # Learning rate\n",
        "        self.learning_rate = 0.0001\n",
        "\n",
        "        # Weights for the layers\n",
        "        self.W_H1 = np.random.randn(inputLayerNeurons, hiddenLayer1Neurons)\n",
        "        self.W_H2 = np.random.randn(hiddenLayer1Neurons, hiddenLayer2Neurons)\n",
        "        self.W_H3 = np.random.randn(hiddenLayer2Neurons, hiddenLayer3Neurons)\n",
        "        self.W_O = np.random.randn(hiddenLayer3Neurons, outputLayerNeurons)\n",
        "\n",
        "        # Biases for the layers\n",
        "        self.b_H1 = np.random.randn(1, hiddenLayer1Neurons)\n",
        "        self.b_H2 = np.random.randn(1, hiddenLayer2Neurons)\n",
        "        self.b_H3 = np.random.randn(1, hiddenLayer3Neurons)\n",
        "        self.b_O = np.random.randn(1, outputLayerNeurons)\n",
        "\n",
        "    def relu(self, x, der=False):\n",
        "        if der:\n",
        "            return np.where(x > 0, 1, 0)\n",
        "        else:\n",
        "            return np.maximum(0, x)\n",
        "\n",
        "    def softmax(self, x):\n",
        "        exp_x = np.exp(x - np.max(x, axis=1, keepdims=True))\n",
        "        return exp_x / np.sum(exp_x, axis=1, keepdims=True)\n",
        "\n",
        "    def feedForward(self, X):\n",
        "        # Layer 1\n",
        "        self.hidden_input1 = np.dot(X, self.W_H1) + self.b_H1\n",
        "        self.hidden_output1 = self.relu(self.hidden_input1)\n",
        "\n",
        "        # Layer 2\n",
        "        self.hidden_input2 = np.dot(self.hidden_output1, self.W_H2) + self.b_H2\n",
        "        self.hidden_output2 = self.relu(self.hidden_input2)\n",
        "\n",
        "        # Layer 3\n",
        "        self.hidden_input3 = np.dot(self.hidden_output2, self.W_H3) + self.b_H3\n",
        "        self.hidden_output3 = self.relu(self.hidden_input3)\n",
        "\n",
        "        # Output layer\n",
        "        self.output_input = np.dot(self.hidden_output3, self.W_O) + self.b_O\n",
        "        pred = self.softmax(self.output_input)\n",
        "\n",
        "        return pred\n",
        "\n",
        "    def backPropagation(self, X, Y, pred):\n",
        "        # Output layer error and delta\n",
        "        output_error = Y - pred\n",
        "        output_delta = output_error\n",
        "\n",
        "        # Hidden layer 3 error and delta\n",
        "        hidden_error3 = output_delta.dot(self.W_O.T)\n",
        "        hidden_delta3 = hidden_error3 * self.relu(self.hidden_input3, der=True)\n",
        "\n",
        "        # Hidden layer 2 error and delta\n",
        "        hidden_error2 = hidden_delta3.dot(self.W_H3.T)\n",
        "        hidden_delta2 = hidden_error2 * self.relu(self.hidden_input2, der=True)\n",
        "\n",
        "        # Hidden layer 1 error and delta\n",
        "        hidden_error1 = hidden_delta2.dot(self.W_H2.T)\n",
        "        hidden_delta1 = hidden_error1 * self.relu(self.hidden_input1, der=True)\n",
        "\n",
        "        # Updates weights and biases\n",
        "        self.W_O += self.learning_rate * self.hidden_output3.T.dot(output_delta)\n",
        "        self.b_O += self.learning_rate * np.sum(output_delta, axis=0, keepdims=True)\n",
        "\n",
        "        self.W_H3 += self.learning_rate * self.hidden_output2.T.dot(hidden_delta3)\n",
        "        self.b_H3 += self.learning_rate * np.sum(hidden_delta3, axis=0, keepdims=True)\n",
        "\n",
        "        self.W_H2 += self.learning_rate * self.hidden_output1.T.dot(hidden_delta2)\n",
        "        self.b_H2 += self.learning_rate * np.sum(hidden_delta2, axis=0, keepdims=True)\n",
        "\n",
        "        self.W_H1 += self.learning_rate * X.T.dot(hidden_delta1)\n",
        "        self.b_H1 += self.learning_rate * np.sum(hidden_delta1, axis=0, keepdims=True)\n",
        "\n",
        "    def train(self, X, Y):\n",
        "        # Forward pass\n",
        "        output = self.feedForward(X)\n",
        "\n",
        "        # Backward pass\n",
        "        self.backPropagation(X, Y, output)"
      ],
      "metadata": {
        "id": "peUjdDlSFGbp"
      },
      "execution_count": 130,
      "outputs": []
    },
    {
      "cell_type": "markdown",
      "source": [
        "# **Functions for Accuracy and Loss Calculation**"
      ],
      "metadata": {
        "id": "Xeu3E3CVVDBR"
      }
    },
    {
      "cell_type": "markdown",
      "source": [
        "## Categorical Cross Entropy"
      ],
      "metadata": {
        "id": "0Vev-3daVJPZ"
      }
    },
    {
      "cell_type": "code",
      "source": [
        "def categorical_cross_entropy(y_true, y_pred):\n",
        "    y_pred = np.clip(y_pred, 1e-9, 1 - 1e-9)  # Prevent log(0)\n",
        "    return -np.sum(y_true * np.log(y_pred)) / y_true.shape[0]"
      ],
      "metadata": {
        "id": "FVr_9SpYFh0f"
      },
      "execution_count": 131,
      "outputs": []
    },
    {
      "cell_type": "markdown",
      "source": [
        "## Accuracy"
      ],
      "metadata": {
        "id": "Cs8-NT8iVNuR"
      }
    },
    {
      "cell_type": "code",
      "source": [
        "def accuracy(y_true, y_pred):\n",
        "    return np.mean(np.argmax(y_true, axis=1) == np.argmax(y_pred, axis=1))"
      ],
      "metadata": {
        "id": "2wWiQJLRIfjh"
      },
      "execution_count": 132,
      "outputs": []
    },
    {
      "cell_type": "markdown",
      "source": [
        "# **Training the Model**"
      ],
      "metadata": {
        "id": "9AuCAGUFVTY5"
      }
    },
    {
      "cell_type": "code",
      "source": [
        "# Training\n",
        "NN = NeuralNetwork()\n",
        "epochs = 10000\n",
        "err = []\n",
        "acc = []\n",
        "\n",
        "for epoch in range(epochs):\n",
        "    NN.train(X_train, y_train)\n",
        "    y_pred = NN.feedForward(X_train)\n",
        "    err.append(categorical_cross_entropy(y_train, y_pred))\n",
        "    acc.append(accuracy(y_train, y_pred))\n",
        "\n",
        "    if epoch % 100 == 0:\n",
        "        print(f\"Epoch {epoch}/{epochs} - Loss: {err[epoch]:.4f}, Accuracy: {acc[epoch]:.4f}\")"
      ],
      "metadata": {
        "colab": {
          "base_uri": "https://localhost:8080/"
        },
        "id": "8ysYxiIyJQ1U",
        "outputId": "4a209562-2ba7-4828-e85a-bb7585f97b0c"
      },
      "execution_count": 133,
      "outputs": [
        {
          "output_type": "stream",
          "name": "stdout",
          "text": [
            "Epoch 0/10000 - Loss: 6.9232, Accuracy: 0.6364\n",
            "Epoch 100/10000 - Loss: 0.6551, Accuracy: 0.9293\n",
            "Epoch 200/10000 - Loss: 0.4497, Accuracy: 0.9495\n",
            "Epoch 300/10000 - Loss: 0.3174, Accuracy: 0.9596\n",
            "Epoch 400/10000 - Loss: 0.2438, Accuracy: 0.9596\n",
            "Epoch 500/10000 - Loss: 0.2041, Accuracy: 0.9495\n",
            "Epoch 600/10000 - Loss: 0.1814, Accuracy: 0.9495\n",
            "Epoch 700/10000 - Loss: 0.1676, Accuracy: 0.9495\n",
            "Epoch 800/10000 - Loss: 0.1586, Accuracy: 0.9495\n",
            "Epoch 900/10000 - Loss: 0.1523, Accuracy: 0.9495\n",
            "Epoch 1000/10000 - Loss: 0.1477, Accuracy: 0.9495\n",
            "Epoch 1100/10000 - Loss: 0.1441, Accuracy: 0.9495\n",
            "Epoch 1200/10000 - Loss: 0.1413, Accuracy: 0.9495\n",
            "Epoch 1300/10000 - Loss: 0.1389, Accuracy: 0.9495\n",
            "Epoch 1400/10000 - Loss: 0.1369, Accuracy: 0.9495\n",
            "Epoch 1500/10000 - Loss: 0.1352, Accuracy: 0.9495\n",
            "Epoch 1600/10000 - Loss: 0.1337, Accuracy: 0.9495\n",
            "Epoch 1700/10000 - Loss: 0.1323, Accuracy: 0.9495\n",
            "Epoch 1800/10000 - Loss: 0.1311, Accuracy: 0.9495\n",
            "Epoch 1900/10000 - Loss: 0.1299, Accuracy: 0.9495\n",
            "Epoch 2000/10000 - Loss: 0.1289, Accuracy: 0.9495\n",
            "Epoch 2100/10000 - Loss: 0.1279, Accuracy: 0.9495\n",
            "Epoch 2200/10000 - Loss: 0.1269, Accuracy: 0.9495\n",
            "Epoch 2300/10000 - Loss: 0.1260, Accuracy: 0.9495\n",
            "Epoch 2400/10000 - Loss: 0.1252, Accuracy: 0.9495\n",
            "Epoch 2500/10000 - Loss: 0.1244, Accuracy: 0.9495\n",
            "Epoch 2600/10000 - Loss: 0.1236, Accuracy: 0.9596\n",
            "Epoch 2700/10000 - Loss: 0.1228, Accuracy: 0.9596\n",
            "Epoch 2800/10000 - Loss: 0.1221, Accuracy: 0.9596\n",
            "Epoch 2900/10000 - Loss: 0.1214, Accuracy: 0.9596\n",
            "Epoch 3000/10000 - Loss: 0.1207, Accuracy: 0.9596\n",
            "Epoch 3100/10000 - Loss: 0.1200, Accuracy: 0.9596\n",
            "Epoch 3200/10000 - Loss: 0.1194, Accuracy: 0.9596\n",
            "Epoch 3300/10000 - Loss: 0.1187, Accuracy: 0.9596\n",
            "Epoch 3400/10000 - Loss: 0.1182, Accuracy: 0.9495\n",
            "Epoch 3500/10000 - Loss: 0.1180, Accuracy: 0.9394\n",
            "Epoch 3600/10000 - Loss: 0.1482, Accuracy: 0.9293\n",
            "Epoch 3700/10000 - Loss: 0.1242, Accuracy: 0.9394\n",
            "Epoch 3800/10000 - Loss: 0.1186, Accuracy: 0.9394\n",
            "Epoch 3900/10000 - Loss: 0.1290, Accuracy: 0.9394\n",
            "Epoch 4000/10000 - Loss: 0.1245, Accuracy: 0.9394\n",
            "Epoch 4100/10000 - Loss: 0.1168, Accuracy: 0.9394\n",
            "Epoch 4200/10000 - Loss: 0.1246, Accuracy: 0.9394\n",
            "Epoch 4300/10000 - Loss: 0.1259, Accuracy: 0.9394\n",
            "Epoch 4400/10000 - Loss: 0.1158, Accuracy: 0.9394\n",
            "Epoch 4500/10000 - Loss: 0.1221, Accuracy: 0.9394\n",
            "Epoch 4600/10000 - Loss: 0.1261, Accuracy: 0.9394\n",
            "Epoch 4700/10000 - Loss: 0.1150, Accuracy: 0.9394\n",
            "Epoch 4800/10000 - Loss: 0.1219, Accuracy: 0.9394\n",
            "Epoch 4900/10000 - Loss: 0.1236, Accuracy: 0.9394\n",
            "Epoch 5000/10000 - Loss: 0.1148, Accuracy: 0.9394\n",
            "Epoch 5100/10000 - Loss: 0.1233, Accuracy: 0.9394\n",
            "Epoch 5200/10000 - Loss: 0.1202, Accuracy: 0.9394\n",
            "Epoch 5300/10000 - Loss: 0.1143, Accuracy: 0.9293\n",
            "Epoch 5400/10000 - Loss: 0.1272, Accuracy: 0.9394\n",
            "Epoch 5500/10000 - Loss: 0.1164, Accuracy: 0.9394\n",
            "Epoch 5600/10000 - Loss: 0.1149, Accuracy: 0.9394\n",
            "Epoch 5700/10000 - Loss: 0.1287, Accuracy: 0.9394\n",
            "Epoch 5800/10000 - Loss: 0.1140, Accuracy: 0.9394\n",
            "Epoch 5900/10000 - Loss: 0.1164, Accuracy: 0.9394\n",
            "Epoch 6000/10000 - Loss: 0.1240, Accuracy: 0.9394\n",
            "Epoch 6100/10000 - Loss: 0.1122, Accuracy: 0.9394\n",
            "Epoch 6200/10000 - Loss: 0.1189, Accuracy: 0.9394\n",
            "Epoch 6300/10000 - Loss: 0.1173, Accuracy: 0.9394\n",
            "Epoch 6400/10000 - Loss: 0.1112, Accuracy: 0.9596\n",
            "Epoch 6500/10000 - Loss: 0.1241, Accuracy: 0.9394\n",
            "Epoch 6600/10000 - Loss: 0.1136, Accuracy: 0.9394\n",
            "Epoch 6700/10000 - Loss: 0.1117, Accuracy: 0.9394\n",
            "Epoch 6800/10000 - Loss: 0.1251, Accuracy: 0.9394\n",
            "Epoch 6900/10000 - Loss: 0.1122, Accuracy: 0.9394\n",
            "Epoch 7000/10000 - Loss: 0.1133, Accuracy: 0.9394\n",
            "Epoch 7100/10000 - Loss: 0.1195, Accuracy: 0.9394\n",
            "Epoch 7200/10000 - Loss: 0.1135, Accuracy: 0.9394\n",
            "Epoch 7300/10000 - Loss: 0.1149, Accuracy: 0.9394\n",
            "Epoch 7400/10000 - Loss: 0.1188, Accuracy: 0.9394\n",
            "Epoch 7500/10000 - Loss: 0.1107, Accuracy: 0.9495\n",
            "Epoch 7600/10000 - Loss: 0.1172, Accuracy: 0.9394\n",
            "Epoch 7700/10000 - Loss: 0.1150, Accuracy: 0.9394\n",
            "Epoch 7800/10000 - Loss: 0.1123, Accuracy: 0.9394\n",
            "Epoch 7900/10000 - Loss: 0.1161, Accuracy: 0.9394\n",
            "Epoch 8000/10000 - Loss: 0.1138, Accuracy: 0.9394\n",
            "Epoch 8100/10000 - Loss: 0.1138, Accuracy: 0.9394\n",
            "Epoch 8200/10000 - Loss: 0.1137, Accuracy: 0.9394\n",
            "Epoch 8300/10000 - Loss: 0.1133, Accuracy: 0.9394\n",
            "Epoch 8400/10000 - Loss: 0.1132, Accuracy: 0.9394\n",
            "Epoch 8500/10000 - Loss: 0.1127, Accuracy: 0.9394\n",
            "Epoch 8600/10000 - Loss: 0.1125, Accuracy: 0.9394\n",
            "Epoch 8700/10000 - Loss: 0.1132, Accuracy: 0.9394\n",
            "Epoch 8800/10000 - Loss: 0.1117, Accuracy: 0.9495\n",
            "Epoch 8900/10000 - Loss: 0.1125, Accuracy: 0.9394\n",
            "Epoch 9000/10000 - Loss: 0.1139, Accuracy: 0.9394\n",
            "Epoch 9100/10000 - Loss: 0.1109, Accuracy: 0.9495\n",
            "Epoch 9200/10000 - Loss: 0.1125, Accuracy: 0.9495\n",
            "Epoch 9300/10000 - Loss: 0.1130, Accuracy: 0.9394\n",
            "Epoch 9400/10000 - Loss: 0.1105, Accuracy: 0.9495\n",
            "Epoch 9500/10000 - Loss: 0.1122, Accuracy: 0.9495\n",
            "Epoch 9600/10000 - Loss: 0.1121, Accuracy: 0.9495\n",
            "Epoch 9700/10000 - Loss: 0.1104, Accuracy: 0.9495\n",
            "Epoch 9800/10000 - Loss: 0.1116, Accuracy: 0.9495\n",
            "Epoch 9900/10000 - Loss: 0.1112, Accuracy: 0.9495\n"
          ]
        }
      ]
    },
    {
      "cell_type": "markdown",
      "source": [
        "# **Plotting Training Loss and Accuracy**"
      ],
      "metadata": {
        "id": "MGnnuOfSVcwR"
      }
    },
    {
      "cell_type": "code",
      "source": [
        "fig, ax = plt.subplots(1, 2, figsize=(14, 6))\n",
        "\n",
        "# Plot the error\n",
        "ax[0].plot(err)\n",
        "ax[0].set_xlabel('Epochs')\n",
        "ax[0].set_ylabel('Categorical Cross-Entropy Loss')\n",
        "ax[0].set_title('Training Loss')\n",
        "\n",
        "# Plot the accuracy\n",
        "ax[1].plot(acc)\n",
        "ax[1].set_xlabel('Epochs')\n",
        "ax[1].set_ylabel('Accuracy')\n",
        "ax[1].set_title('Training Accuracy')\n",
        "\n",
        "plt.show()"
      ],
      "metadata": {
        "colab": {
          "base_uri": "https://localhost:8080/",
          "height": 564
        },
        "id": "Smd8prwkJtnZ",
        "outputId": "7acf524c-751e-4036-bc99-0c61695e4935"
      },
      "execution_count": 134,
      "outputs": [
        {
          "output_type": "display_data",
          "data": {
            "text/plain": [
              "<Figure size 1400x600 with 2 Axes>"
            ],
            "image/png": "[encoded data removed]"
          },
          "metadata": {}
        }
      ]
    },
    {
      "cell_type": "markdown",
      "source": [
        "# **Evaluating Model on Test Data**"
      ],
      "metadata": {
        "id": "UzfqJTalXFI5"
      }
    },
    {
      "cell_type": "code",
      "source": [
        "y_test_pred = NN.feedForward(X_test)\n",
        "\n",
        "test_loss = categorical_cross_entropy(y_test, y_test_pred)\n",
        "test_accuracy = accuracy(y_test, y_test_pred)\n",
        "\n",
        "print(f\"Test Loss: {test_loss:.4f}\")\n",
        "print(f\"Test Accuracy: {test_accuracy:.2%}\")"
      ],
      "metadata": {
        "colab": {
          "base_uri": "https://localhost:8080/"
        },
        "id": "KqmLQYayKPdx",
        "outputId": "9e83672f-761d-4a9a-f169-248e7fa7420e"
      },
      "execution_count": 135,
      "outputs": [
        {
          "output_type": "stream",
          "name": "stdout",
          "text": [
            "Test Loss: 0.0865\n",
            "Test Accuracy: 96.00%\n"
          ]
        }
      ]
    },
    {
      "cell_type": "markdown",
      "source": [
        "# **Plotting Decision Boundaries**"
      ],
      "metadata": {
        "id": "vsC6eZDRXQAY"
      }
    },
    {
      "cell_type": "code",
      "source": [
        "from matplotlib.colors import ListedColormap\n",
        "\n",
        "y_test_pred_labels = np.argmax(y_test_pred, axis=1)\n",
        "y_test_labels = np.argmax(y_test, axis=1)\n",
        "\n",
        "# Define a mesh grid\n",
        "x_min, x_max = X_test[:, 0].min() - 1, X_test[:, 0].max() + 1\n",
        "y_min, y_max = X_test[:, 1].min() - 1, X_test[:, 1].max() + 1\n",
        "xx, yy = np.meshgrid(np.arange(x_min, x_max, 0.01), np.arange(y_min, y_max, 0.01))\n",
        "\n",
        "# Predict over the grid\n",
        "grid_points = np.c_[xx.ravel(), yy.ravel()]\n",
        "grid_pred = NN.feedForward(grid_points)\n",
        "grid_pred_classes = np.argmax(grid_pred, axis=1)\n",
        "\n",
        "# Plot the decision boundary\n",
        "plt.figure(figsize=(14, 10))\n",
        "cmap = ListedColormap(['#2b75b1', '#fd8529', '#2f9d35'])\n",
        "plt.contourf(xx, yy, grid_pred_classes.reshape(xx.shape), alpha=0.4, cmap=cmap)\n",
        "\n",
        "for label, marker in zip(np.unique(y_test_labels), markers):\n",
        "    plt.scatter(X_test[y_test_labels == label, 0],\n",
        "                X_test[y_test_labels == label, 1],\n",
        "                label=labels[label],\n",
        "                marker=marker,\n",
        "                s=100)\n",
        "\n",
        "plt.xlabel(\"bill_length_mm\")\n",
        "plt.ylabel(\"flipper_length_mm\")\n",
        "plt.legend()\n",
        "plt.title(\"Decision Boundaries and Test Data Points\")\n",
        "plt.show()"
      ],
      "metadata": {
        "colab": {
          "base_uri": "https://localhost:8080/",
          "height": 872
        },
        "id": "uI05cp08LwBk",
        "outputId": "e598b4fa-59ba-47af-be18-bc5003e328bc"
      },
      "execution_count": 136,
      "outputs": [
        {
          "output_type": "display_data",
          "data": {
            "text/plain": [
              "<Figure size 1400x1000 with 1 Axes>"
            ],
            "image/png": "[encoded data removed]"
          },
          "metadata": {}
        }
      ]
    },
    {
      "cell_type": "code",
      "source": [],
      "metadata": {
        "id": "TWIgkFPwMaDz"
      },
      "execution_count": null,
      "outputs": []
    }
  ]
}
